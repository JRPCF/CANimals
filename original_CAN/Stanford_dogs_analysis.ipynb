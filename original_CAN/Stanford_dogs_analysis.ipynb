{
 "cells": [
  {
   "cell_type": "code",
   "execution_count": 1,
   "metadata": {
    "collapsed": true,
    "pycharm": {
     "is_executing": false
    }
   },
   "outputs": [],
   "source": [
    "\"\"\"\n",
    "Yarne Hermann YPH2105\n",
    "\"\"\"\n",
    "%matplotlib inline\n",
    "\n",
    "import numpy as np\n",
    "from torch.utils.data import DataLoader\n",
    "import matplotlib.pyplot as plt\n",
    "\n",
    "from data.stanford_dogs import StanfordDogs\n",
    "\n",
    "BATCH_SIZE = 32"
   ]
  },
  {
   "cell_type": "code",
   "execution_count": 2,
   "outputs": [],
   "source": [
    "train_dataset = StanfordDogs('./images')\n",
    "train_dataloader = DataLoader(train_dataset, batch_size=32, shuffle=True)"
   ],
   "metadata": {
    "collapsed": false,
    "pycharm": {
     "name": "#%%\n",
     "is_executing": false
    }
   }
  },
  {
   "cell_type": "code",
   "execution_count": null,
   "outputs": [],
   "source": [
    "\n",
    "for i in range(5):\n",
    "    sample_img, sample_target = train_dataset[i]\n",
    "    print(i, sample_target, train_dataset.classes[sample_target])\n",
    "    plt.figure()\n",
    "    plt.imshow(np.moveaxis(sample_img.numpy(), 0, -1))\n",
    "    # plt.imshow(sample_img)\n"
   ],
   "metadata": {
    "collapsed": false,
    "pycharm": {
     "name": "#%%\n"
    }
   }
  },
  {
   "cell_type": "code",
   "execution_count": 3,
   "outputs": [
    {
     "name": "stdout",
     "text": [
      "Minimum width: 100\n",
      "Minimum height: 97\n",
      "Nr images smaller than crop size: 2447\n"
     ],
     "output_type": "stream"
    }
   ],
   "source": [
    "'''\n",
    "To test this cell we need to disable the cropping transform in stanford_dogs.py\n",
    "\n",
    "Some pictures seem to have smaller dimensions than the crop size of 256, 256. \n",
    "Smallest width = 100, height = 97\n",
    "When cropping smaller images, they get zero-padded. \n",
    "2447/20588 have at least one dimension smaller than 256. That is about 1/8 which I think we should reduce.\n",
    "We should make a decision on what we do about this:\n",
    "- Don't care\n",
    "- Use smaller crop size\n",
    "- Remove the smaller images from the dataset (Maybe combined with using a smaller crop size) \n",
    "'''\n",
    "\n",
    "min_w = 1000\n",
    "min_h = 1000\n",
    "nr_imgs_smaller_than_crop = 0\n",
    "\n",
    "for i in range(len(train_dataset.current_dataset)):\n",
    "    sample_img, sample_target = train_dataset[i]\n",
    "    dims = sample_img.shape\n",
    "    if (dims[1] < train_dataset.CROP_SIZE or dims[2] < train_dataset.CROP_SIZE):\n",
    "        nr_imgs_smaller_than_crop += 1\n",
    "    min_w = min(min_w, dims[1])\n",
    "    min_h = min(min_h, dims[2])\n",
    "print(\"Minimum width:\", min_w)\n",
    "print(\"Minimum height:\", min_h)\n",
    "print(\"Nr images smaller than crop size:\", nr_imgs_smaller_than_crop)"
   ],
   "metadata": {
    "collapsed": false,
    "pycharm": {
     "name": "#%%\n",
     "is_executing": false
    }
   }
  },
  {
   "cell_type": "code",
   "execution_count": 4,
   "outputs": [
    {
     "name": "stdout",
     "text": [
      "20580\n"
     ],
     "output_type": "stream"
    }
   ],
   "source": [
    "print(len(train_dataset.current_dataset))"
   ],
   "metadata": {
    "collapsed": false,
    "pycharm": {
     "name": "#%%\n",
     "is_executing": false
    }
   }
  },
  {
   "cell_type": "code",
   "execution_count": null,
   "outputs": [],
   "source": [
    "\n"
   ],
   "metadata": {
    "collapsed": false,
    "pycharm": {
     "name": "#%%\n"
    }
   }
  }
 ],
 "metadata": {
  "kernelspec": {
   "display_name": "Python 3",
   "language": "python",
   "name": "python3"
  },
  "language_info": {
   "codemirror_mode": {
    "name": "ipython",
    "version": 2
   },
   "file_extension": ".py",
   "mimetype": "text/x-python",
   "name": "python",
   "nbconvert_exporter": "python",
   "pygments_lexer": "ipython2",
   "version": "2.7.6"
  },
  "pycharm": {
   "stem_cell": {
    "cell_type": "raw",
    "source": [],
    "metadata": {
     "collapsed": false
    }
   }
  }
 },
 "nbformat": 4,
 "nbformat_minor": 0
}